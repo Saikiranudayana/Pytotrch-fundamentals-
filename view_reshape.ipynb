{
 "cells": [
  {
   "cell_type": "code",
   "execution_count": 1,
   "id": "2e1df757",
   "metadata": {},
   "outputs": [],
   "source": [
    "import torch"
   ]
  },
  {
   "cell_type": "code",
   "execution_count": 2,
   "id": "431326b6",
   "metadata": {},
   "outputs": [],
   "source": [
    "tensor = torch.arange(12)\n",
    "\n"
   ]
  },
  {
   "cell_type": "code",
   "execution_count": null,
   "id": "ad7474ec",
   "metadata": {},
   "outputs": [
    {
     "name": "stdout",
     "output_type": "stream",
     "text": [
      "tensor([[ 0,  1,  2,  3,  4,  5],\n",
      "        [ 6,  7,  8,  9, 10, 11]])\n",
      "tensor([[ 0,  1,  2,  3,  4,  5],\n",
      "        [ 6,  7,  8,  9, 10, 11]])\n"
     ]
    }
   ],
   "source": [
    "reshape_tensor_view = tensor.view(2,6)  \n",
    "reshape_tensor_reshape = tensor.reshape(2,6)\n",
    "\n",
    "\n",
    "print(reshape_tensor_view)\n",
    "print(reshape_tensor_reshape)"
   ]
  },
  {
   "cell_type": "code",
   "execution_count": 5,
   "id": "9aaea282",
   "metadata": {},
   "outputs": [
    {
     "name": "stdout",
     "output_type": "stream",
     "text": [
      "<built-in method is_contiguous of Tensor object at 0x0000021C6A0C47C0>\n"
     ]
    },
    {
     "data": {
      "text/plain": [
       "<function Tensor.is_contiguous>"
      ]
     },
     "execution_count": 5,
     "metadata": {},
     "output_type": "execute_result"
    }
   ],
   "source": [
    "print(reshape_tensor_view.is_contiguous)\n",
    "reshape_tensor_reshape.is_contiguous"
   ]
  },
  {
   "cell_type": "code",
   "execution_count": 6,
   "id": "b779637f",
   "metadata": {},
   "outputs": [],
   "source": [
    "import torch"
   ]
  },
  {
   "cell_type": "code",
   "execution_count": 10,
   "id": "876fca12",
   "metadata": {},
   "outputs": [
    {
     "name": "stdout",
     "output_type": "stream",
     "text": [
      "1\n",
      "torch.Size([3])\n",
      "tensor([[1, 2, 3],\n",
      "        [4, 5, 6]])\n",
      "2\n",
      "torch.Size([2, 3])\n",
      "tensor([[1, 4],\n",
      "        [2, 5],\n",
      "        [3, 6]])\n",
      "2\n",
      "torch.Size([3, 2])\n"
     ]
    }
   ],
   "source": [
    "tensor_1 = torch.tensor([1,2,3])\n",
    "tensor_2 = torch.tensor([4,5,6])\n",
    "\n",
    "\n",
    "print(tensor_1.ndim)\n",
    "\n",
    "print(tensor_1.shape)   \n",
    "\n",
    "\n",
    "dim_0 =torch.stack([tensor_1, tensor_2], dim=0)  # 0: row-wise stacking\n",
    "\n",
    "dim_1 = torch.stack([tensor_1, tensor_2], dim=1)  # 1: column-wise stacking\n",
    "\n",
    "\n",
    "print(dim_0)\n",
    "print(dim_0.ndim)\n",
    "print(dim_0.shape)\n",
    "\n",
    "print(dim_1)\n",
    "print(dim_1.ndim)\n",
    "print(dim_1.shape)\n"
   ]
  },
  {
   "cell_type": "code",
   "execution_count": null,
   "id": "048d3636",
   "metadata": {},
   "outputs": [],
   "source": []
  },
  {
   "cell_type": "code",
   "execution_count": null,
   "id": "b13d4c96",
   "metadata": {},
   "outputs": [],
   "source": []
  },
  {
   "cell_type": "code",
   "execution_count": null,
   "id": "77aa04af",
   "metadata": {},
   "outputs": [],
   "source": []
  },
  {
   "cell_type": "code",
   "execution_count": null,
   "id": "e3be4019",
   "metadata": {},
   "outputs": [],
   "source": []
  },
  {
   "cell_type": "code",
   "execution_count": null,
   "id": "afdcd16f",
   "metadata": {},
   "outputs": [],
   "source": []
  }
 ],
 "metadata": {
  "kernelspec": {
   "display_name": "base",
   "language": "python",
   "name": "python3"
  },
  "language_info": {
   "codemirror_mode": {
    "name": "ipython",
    "version": 3
   },
   "file_extension": ".py",
   "mimetype": "text/x-python",
   "name": "python",
   "nbconvert_exporter": "python",
   "pygments_lexer": "ipython3",
   "version": "3.8.20"
  }
 },
 "nbformat": 4,
 "nbformat_minor": 5
}
