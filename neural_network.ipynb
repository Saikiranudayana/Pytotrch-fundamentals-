{
 "cells": [
  {
   "cell_type": "markdown",
   "id": "f3bc3742",
   "metadata": {},
   "source": [
    "Building a Neural network"
   ]
  },
  {
   "cell_type": "code",
   "execution_count": 3,
   "id": "832524ff",
   "metadata": {},
   "outputs": [],
   "source": [
    "import torch\n",
    "import torch.nn as nn   \n",
    "import torch.optim as optim"
   ]
  },
  {
   "cell_type": "code",
   "execution_count": null,
   "id": "e03f5515",
   "metadata": {},
   "outputs": [],
   "source": []
  },
  {
   "cell_type": "code",
   "execution_count": null,
   "id": "5877e47d",
   "metadata": {},
   "outputs": [],
   "source": [
    "##funcational api\n",
    "\n",
    "class SimpleNN(nn.Module):\n",
    "    def __int__(self,input_size,hidden_size, output_size):\n",
    "        super(SimpleNN,self).__int__()\n",
    "        \n",
    "        self.fc1 = nn.Linear(input_size,hidden_size)\n",
    "        \n",
    "        \n",
    "        self.relu = nn.ReLU() \n",
    "        \n",
    "        self.fc2 =nn.Linear(hidden_size,output_size)\n",
    "        \n",
    "    def forward(self,x):\n",
    "        x = self.fc1(x)\n",
    "        x = self.relu(x)\n",
    "        x = self.fc2(x)\n",
    "        return  \n",
    "    \n",
    "        "
   ]
  },
  {
   "cell_type": "code",
   "execution_count": 5,
   "id": "5528d9e0",
   "metadata": {},
   "outputs": [],
   "source": [
    "##sequentrail api\n",
    "\n",
    "class SimpleNNSequentail(nn.Module):\n",
    "    def __int__(self,input_size,hidden_size, output_size):\n",
    "        super(SimpleNN,self).__int__()\n",
    "        self.network = nn.Sequential(\n",
    "            nn.Linear(input_size,hidden_size),\n",
    "            nn.Relu(),\n",
    "            nn.Linear(hidden_size,output_size)\n",
    "        )\n",
    "    def forward(self,x):\n",
    "        return  self.network(x)\n",
    "    \n",
    "        "
   ]
  },
  {
   "cell_type": "code",
   "execution_count": 7,
   "id": "178ae4c5",
   "metadata": {},
   "outputs": [
    {
     "ename": "TypeError",
     "evalue": "SimpleNN.__init__() got an unexpected keyword argument 'input_size'",
     "output_type": "error",
     "traceback": [
      "\u001b[1;31m---------------------------------------------------------------------------\u001b[0m",
      "\u001b[1;31mTypeError\u001b[0m                                 Traceback (most recent call last)",
      "Cell \u001b[1;32mIn[7], line 1\u001b[0m\n\u001b[1;32m----> 1\u001b[0m sample \u001b[38;5;241m=\u001b[39m \u001b[43mSimpleNN\u001b[49m\u001b[43m(\u001b[49m\u001b[43minput_size\u001b[49m\u001b[38;5;241;43m=\u001b[39;49m\u001b[38;5;241;43m4\u001b[39;49m\u001b[43m,\u001b[49m\u001b[43mhidden_size\u001b[49m\u001b[38;5;241;43m=\u001b[39;49m\u001b[38;5;241;43m8\u001b[39;49m\u001b[43m,\u001b[49m\u001b[43moutput_size\u001b[49m\u001b[38;5;241;43m=\u001b[39;49m\u001b[38;5;241;43m3\u001b[39;49m\u001b[43m)\u001b[49m\n\u001b[0;32m      2\u001b[0m \u001b[38;5;28mprint\u001b[39m(sample)\n",
      "File \u001b[1;32mc:\\Users\\saiki\\anaconda3\\lib\\site-packages\\torch\\nn\\modules\\module.py:435\u001b[0m, in \u001b[0;36mModule.__init__\u001b[1;34m(self, *args, **kwargs)\u001b[0m\n\u001b[0;32m    433\u001b[0m \u001b[38;5;66;03m# Backward compatibility: no args used to be allowed when call_super_init=False\u001b[39;00m\n\u001b[0;32m    434\u001b[0m \u001b[38;5;28;01mif\u001b[39;00m \u001b[38;5;28mself\u001b[39m\u001b[38;5;241m.\u001b[39mcall_super_init \u001b[38;5;129;01mis\u001b[39;00m \u001b[38;5;28;01mFalse\u001b[39;00m \u001b[38;5;129;01mand\u001b[39;00m \u001b[38;5;28mbool\u001b[39m(kwargs):\n\u001b[1;32m--> 435\u001b[0m     \u001b[38;5;28;01mraise\u001b[39;00m \u001b[38;5;167;01mTypeError\u001b[39;00m(\u001b[38;5;124mf\u001b[39m\u001b[38;5;124m\"\u001b[39m\u001b[38;5;132;01m{\u001b[39;00m\u001b[38;5;28mtype\u001b[39m(\u001b[38;5;28mself\u001b[39m)\u001b[38;5;241m.\u001b[39m\u001b[38;5;18m__name__\u001b[39m\u001b[38;5;132;01m}\u001b[39;00m\u001b[38;5;124m.__init__() got an unexpected keyword argument \u001b[39m\u001b[38;5;124m'\u001b[39m\u001b[38;5;132;01m{\u001b[39;00m\u001b[38;5;28mnext\u001b[39m(\u001b[38;5;28miter\u001b[39m(kwargs))\u001b[38;5;132;01m}\u001b[39;00m\u001b[38;5;124m'\u001b[39m\u001b[38;5;124m\"\u001b[39m\n\u001b[0;32m    436\u001b[0m                     \u001b[38;5;124m\"\u001b[39m\u001b[38;5;124m\"\u001b[39m)\n\u001b[0;32m    438\u001b[0m \u001b[38;5;28;01mif\u001b[39;00m \u001b[38;5;28mself\u001b[39m\u001b[38;5;241m.\u001b[39mcall_super_init \u001b[38;5;129;01mis\u001b[39;00m \u001b[38;5;28;01mFalse\u001b[39;00m \u001b[38;5;129;01mand\u001b[39;00m \u001b[38;5;28mbool\u001b[39m(args):\n\u001b[0;32m    439\u001b[0m     \u001b[38;5;28;01mraise\u001b[39;00m \u001b[38;5;167;01mTypeError\u001b[39;00m(\u001b[38;5;124mf\u001b[39m\u001b[38;5;124m\"\u001b[39m\u001b[38;5;132;01m{\u001b[39;00m\u001b[38;5;28mtype\u001b[39m(\u001b[38;5;28mself\u001b[39m)\u001b[38;5;241m.\u001b[39m\u001b[38;5;18m__name__\u001b[39m\u001b[38;5;132;01m}\u001b[39;00m\u001b[38;5;124m.__init__() takes 1 positional argument but \u001b[39m\u001b[38;5;132;01m{\u001b[39;00m\u001b[38;5;28mlen\u001b[39m(args)\u001b[38;5;250m \u001b[39m\u001b[38;5;241m+\u001b[39m\u001b[38;5;250m \u001b[39m\u001b[38;5;241m1\u001b[39m\u001b[38;5;132;01m}\u001b[39;00m\u001b[38;5;124m were\u001b[39m\u001b[38;5;124m\"\u001b[39m\n\u001b[0;32m    440\u001b[0m                     \u001b[38;5;124m\"\u001b[39m\u001b[38;5;124m given\u001b[39m\u001b[38;5;124m\"\u001b[39m)\n",
      "\u001b[1;31mTypeError\u001b[0m: SimpleNN.__init__() got an unexpected keyword argument 'input_size'"
     ]
    }
   ],
   "source": [
    "sample = SimpleNN(input_size=4,hidden_size=8,output_size=3)\n",
    "print(sample)"
   ]
  },
  {
   "cell_type": "code",
   "execution_count": 1,
   "id": "9a738736",
   "metadata": {},
   "outputs": [],
   "source": [
    "import pandas as pd"
   ]
  },
  {
   "cell_type": "code",
   "execution_count": 2,
   "id": "f1bf170c",
   "metadata": {},
   "outputs": [],
   "source": [
    "df= pd.read_csv('insurance.csv')"
   ]
  },
  {
   "cell_type": "code",
   "execution_count": 3,
   "id": "4c6d7f12",
   "metadata": {},
   "outputs": [
    {
     "data": {
      "text/html": [
       "<div>\n",
       "<style scoped>\n",
       "    .dataframe tbody tr th:only-of-type {\n",
       "        vertical-align: middle;\n",
       "    }\n",
       "\n",
       "    .dataframe tbody tr th {\n",
       "        vertical-align: top;\n",
       "    }\n",
       "\n",
       "    .dataframe thead th {\n",
       "        text-align: right;\n",
       "    }\n",
       "</style>\n",
       "<table border=\"1\" class=\"dataframe\">\n",
       "  <thead>\n",
       "    <tr style=\"text-align: right;\">\n",
       "      <th></th>\n",
       "      <th>age</th>\n",
       "      <th>sex</th>\n",
       "      <th>bmi</th>\n",
       "      <th>children</th>\n",
       "      <th>smoker</th>\n",
       "      <th>region</th>\n",
       "      <th>charges</th>\n",
       "    </tr>\n",
       "  </thead>\n",
       "  <tbody>\n",
       "    <tr>\n",
       "      <th>0</th>\n",
       "      <td>19</td>\n",
       "      <td>female</td>\n",
       "      <td>27.900</td>\n",
       "      <td>0</td>\n",
       "      <td>yes</td>\n",
       "      <td>southwest</td>\n",
       "      <td>16884.92400</td>\n",
       "    </tr>\n",
       "    <tr>\n",
       "      <th>1</th>\n",
       "      <td>18</td>\n",
       "      <td>male</td>\n",
       "      <td>33.770</td>\n",
       "      <td>1</td>\n",
       "      <td>no</td>\n",
       "      <td>southeast</td>\n",
       "      <td>1725.55230</td>\n",
       "    </tr>\n",
       "    <tr>\n",
       "      <th>2</th>\n",
       "      <td>28</td>\n",
       "      <td>male</td>\n",
       "      <td>33.000</td>\n",
       "      <td>3</td>\n",
       "      <td>no</td>\n",
       "      <td>southeast</td>\n",
       "      <td>4449.46200</td>\n",
       "    </tr>\n",
       "    <tr>\n",
       "      <th>3</th>\n",
       "      <td>33</td>\n",
       "      <td>male</td>\n",
       "      <td>22.705</td>\n",
       "      <td>0</td>\n",
       "      <td>no</td>\n",
       "      <td>northwest</td>\n",
       "      <td>21984.47061</td>\n",
       "    </tr>\n",
       "    <tr>\n",
       "      <th>4</th>\n",
       "      <td>32</td>\n",
       "      <td>male</td>\n",
       "      <td>28.880</td>\n",
       "      <td>0</td>\n",
       "      <td>no</td>\n",
       "      <td>northwest</td>\n",
       "      <td>3866.85520</td>\n",
       "    </tr>\n",
       "  </tbody>\n",
       "</table>\n",
       "</div>"
      ],
      "text/plain": [
       "   age     sex     bmi  children smoker     region      charges\n",
       "0   19  female  27.900         0    yes  southwest  16884.92400\n",
       "1   18    male  33.770         1     no  southeast   1725.55230\n",
       "2   28    male  33.000         3     no  southeast   4449.46200\n",
       "3   33    male  22.705         0     no  northwest  21984.47061\n",
       "4   32    male  28.880         0     no  northwest   3866.85520"
      ]
     },
     "execution_count": 3,
     "metadata": {},
     "output_type": "execute_result"
    }
   ],
   "source": [
    "df.head()"
   ]
  },
  {
   "cell_type": "code",
   "execution_count": 4,
   "id": "262fcd1d",
   "metadata": {},
   "outputs": [
    {
     "name": "stdout",
     "output_type": "stream",
     "text": [
      "<class 'pandas.core.frame.DataFrame'>\n",
      "RangeIndex: 1338 entries, 0 to 1337\n",
      "Data columns (total 7 columns):\n",
      " #   Column    Non-Null Count  Dtype  \n",
      "---  ------    --------------  -----  \n",
      " 0   age       1338 non-null   int64  \n",
      " 1   sex       1338 non-null   object \n",
      " 2   bmi       1338 non-null   float64\n",
      " 3   children  1338 non-null   int64  \n",
      " 4   smoker    1338 non-null   object \n",
      " 5   region    1338 non-null   object \n",
      " 6   charges   1338 non-null   float64\n",
      "dtypes: float64(2), int64(2), object(3)\n",
      "memory usage: 73.3+ KB\n"
     ]
    }
   ],
   "source": [
    "df.info()"
   ]
  },
  {
   "cell_type": "code",
   "execution_count": 6,
   "id": "3f328eff",
   "metadata": {},
   "outputs": [
    {
     "data": {
      "text/plain": [
       "age         0\n",
       "sex         0\n",
       "bmi         0\n",
       "children    0\n",
       "smoker      0\n",
       "region      0\n",
       "charges     0\n",
       "dtype: int64"
      ]
     },
     "execution_count": 6,
     "metadata": {},
     "output_type": "execute_result"
    }
   ],
   "source": [
    "df.isnull().sum()"
   ]
  },
  {
   "cell_type": "code",
   "execution_count": 7,
   "id": "555a7fa3",
   "metadata": {},
   "outputs": [
    {
     "data": {
      "text/html": [
       "<div>\n",
       "<style scoped>\n",
       "    .dataframe tbody tr th:only-of-type {\n",
       "        vertical-align: middle;\n",
       "    }\n",
       "\n",
       "    .dataframe tbody tr th {\n",
       "        vertical-align: top;\n",
       "    }\n",
       "\n",
       "    .dataframe thead th {\n",
       "        text-align: right;\n",
       "    }\n",
       "</style>\n",
       "<table border=\"1\" class=\"dataframe\">\n",
       "  <thead>\n",
       "    <tr style=\"text-align: right;\">\n",
       "      <th></th>\n",
       "      <th>age</th>\n",
       "      <th>bmi</th>\n",
       "      <th>children</th>\n",
       "      <th>charges</th>\n",
       "    </tr>\n",
       "  </thead>\n",
       "  <tbody>\n",
       "    <tr>\n",
       "      <th>count</th>\n",
       "      <td>1338.000000</td>\n",
       "      <td>1338.000000</td>\n",
       "      <td>1338.000000</td>\n",
       "      <td>1338.000000</td>\n",
       "    </tr>\n",
       "    <tr>\n",
       "      <th>mean</th>\n",
       "      <td>39.207025</td>\n",
       "      <td>30.663397</td>\n",
       "      <td>1.094918</td>\n",
       "      <td>13270.422265</td>\n",
       "    </tr>\n",
       "    <tr>\n",
       "      <th>std</th>\n",
       "      <td>14.049960</td>\n",
       "      <td>6.098187</td>\n",
       "      <td>1.205493</td>\n",
       "      <td>12110.011237</td>\n",
       "    </tr>\n",
       "    <tr>\n",
       "      <th>min</th>\n",
       "      <td>18.000000</td>\n",
       "      <td>15.960000</td>\n",
       "      <td>0.000000</td>\n",
       "      <td>1121.873900</td>\n",
       "    </tr>\n",
       "    <tr>\n",
       "      <th>25%</th>\n",
       "      <td>27.000000</td>\n",
       "      <td>26.296250</td>\n",
       "      <td>0.000000</td>\n",
       "      <td>4740.287150</td>\n",
       "    </tr>\n",
       "    <tr>\n",
       "      <th>50%</th>\n",
       "      <td>39.000000</td>\n",
       "      <td>30.400000</td>\n",
       "      <td>1.000000</td>\n",
       "      <td>9382.033000</td>\n",
       "    </tr>\n",
       "    <tr>\n",
       "      <th>75%</th>\n",
       "      <td>51.000000</td>\n",
       "      <td>34.693750</td>\n",
       "      <td>2.000000</td>\n",
       "      <td>16639.912515</td>\n",
       "    </tr>\n",
       "    <tr>\n",
       "      <th>max</th>\n",
       "      <td>64.000000</td>\n",
       "      <td>53.130000</td>\n",
       "      <td>5.000000</td>\n",
       "      <td>63770.428010</td>\n",
       "    </tr>\n",
       "  </tbody>\n",
       "</table>\n",
       "</div>"
      ],
      "text/plain": [
       "               age          bmi     children       charges\n",
       "count  1338.000000  1338.000000  1338.000000   1338.000000\n",
       "mean     39.207025    30.663397     1.094918  13270.422265\n",
       "std      14.049960     6.098187     1.205493  12110.011237\n",
       "min      18.000000    15.960000     0.000000   1121.873900\n",
       "25%      27.000000    26.296250     0.000000   4740.287150\n",
       "50%      39.000000    30.400000     1.000000   9382.033000\n",
       "75%      51.000000    34.693750     2.000000  16639.912515\n",
       "max      64.000000    53.130000     5.000000  63770.428010"
      ]
     },
     "execution_count": 7,
     "metadata": {},
     "output_type": "execute_result"
    }
   ],
   "source": [
    "df.describe()"
   ]
  },
  {
   "cell_type": "code",
   "execution_count": 7,
   "id": "78d0d7db",
   "metadata": {},
   "outputs": [],
   "source": [
    "import torch \n",
    "import pandas as pd\n",
    "import torch.nn as nn\n",
    "import torch.optim as optim\n",
    "from sklearn.preprocessing import LabelEncoder,StandardScaler\n",
    "from sklearn.model_selection import train_test_split"
   ]
  },
  {
   "cell_type": "code",
   "execution_count": 8,
   "id": "22599bb9",
   "metadata": {},
   "outputs": [],
   "source": [
    "df= pd.read_csv('insurance.csv')"
   ]
  },
  {
   "cell_type": "code",
   "execution_count": 9,
   "id": "904979a6",
   "metadata": {},
   "outputs": [],
   "source": [
    "train_df,test_df= train_test_split(df,test_size=0.2,random_state= 42)"
   ]
  },
  {
   "cell_type": "code",
   "execution_count": 10,
   "id": "de77c394",
   "metadata": {},
   "outputs": [],
   "source": [
    "label_encder = {}\n",
    "for col in['sex','smoker','region']:\n",
    "    le = LabelEncoder()\n",
    "    train_df[col]= le.fit_transform(train_df[col])\n",
    "    test_df[col] = le.transform(test_df[col])\n",
    "    label_encder[col] = le"
   ]
  },
  {
   "cell_type": "code",
   "execution_count": 12,
   "id": "500dbad2",
   "metadata": {},
   "outputs": [],
   "source": [
    "x_train = train_df.drop(columns=['charges'])\n",
    "\n",
    "y_train = train_df['charges']\n",
    "\n",
    "x_test = train_df.drop(columns=['charges'])\n",
    "\n",
    "y_test = train_df['charges']"
   ]
  },
  {
   "cell_type": "code",
   "execution_count": 13,
   "id": "6855b2e0",
   "metadata": {},
   "outputs": [
    {
     "data": {
      "text/html": [
       "<div>\n",
       "<style scoped>\n",
       "    .dataframe tbody tr th:only-of-type {\n",
       "        vertical-align: middle;\n",
       "    }\n",
       "\n",
       "    .dataframe tbody tr th {\n",
       "        vertical-align: top;\n",
       "    }\n",
       "\n",
       "    .dataframe thead th {\n",
       "        text-align: right;\n",
       "    }\n",
       "</style>\n",
       "<table border=\"1\" class=\"dataframe\">\n",
       "  <thead>\n",
       "    <tr style=\"text-align: right;\">\n",
       "      <th></th>\n",
       "      <th>age</th>\n",
       "      <th>sex</th>\n",
       "      <th>bmi</th>\n",
       "      <th>children</th>\n",
       "      <th>smoker</th>\n",
       "      <th>region</th>\n",
       "    </tr>\n",
       "  </thead>\n",
       "  <tbody>\n",
       "    <tr>\n",
       "      <th>560</th>\n",
       "      <td>46</td>\n",
       "      <td>0</td>\n",
       "      <td>19.95</td>\n",
       "      <td>2</td>\n",
       "      <td>0</td>\n",
       "      <td>1</td>\n",
       "    </tr>\n",
       "    <tr>\n",
       "      <th>1285</th>\n",
       "      <td>47</td>\n",
       "      <td>0</td>\n",
       "      <td>24.32</td>\n",
       "      <td>0</td>\n",
       "      <td>0</td>\n",
       "      <td>0</td>\n",
       "    </tr>\n",
       "    <tr>\n",
       "      <th>1142</th>\n",
       "      <td>52</td>\n",
       "      <td>0</td>\n",
       "      <td>24.86</td>\n",
       "      <td>0</td>\n",
       "      <td>0</td>\n",
       "      <td>2</td>\n",
       "    </tr>\n",
       "    <tr>\n",
       "      <th>969</th>\n",
       "      <td>39</td>\n",
       "      <td>0</td>\n",
       "      <td>34.32</td>\n",
       "      <td>5</td>\n",
       "      <td>0</td>\n",
       "      <td>2</td>\n",
       "    </tr>\n",
       "    <tr>\n",
       "      <th>486</th>\n",
       "      <td>54</td>\n",
       "      <td>0</td>\n",
       "      <td>21.47</td>\n",
       "      <td>3</td>\n",
       "      <td>0</td>\n",
       "      <td>1</td>\n",
       "    </tr>\n",
       "  </tbody>\n",
       "</table>\n",
       "</div>"
      ],
      "text/plain": [
       "      age  sex    bmi  children  smoker  region\n",
       "560    46    0  19.95         2       0       1\n",
       "1285   47    0  24.32         0       0       0\n",
       "1142   52    0  24.86         0       0       2\n",
       "969    39    0  34.32         5       0       2\n",
       "486    54    0  21.47         3       0       1"
      ]
     },
     "execution_count": 13,
     "metadata": {},
     "output_type": "execute_result"
    }
   ],
   "source": [
    "x_train.head()"
   ]
  },
  {
   "cell_type": "code",
   "execution_count": 14,
   "id": "d6aba3db",
   "metadata": {},
   "outputs": [],
   "source": [
    "scaler = StandardScaler()\n",
    "x_train = scaler.fit_transform(x_train)\n",
    "x_test= scaler.transform(x_test)"
   ]
  },
  {
   "cell_type": "code",
   "execution_count": 34,
   "id": "8df09737",
   "metadata": {},
   "outputs": [],
   "source": [
    "x_train_tensor = torch.tensor(x_train,dtype= torch.float32)\n",
    "y_train_tensor = torch.tensor(y_train.values,dtype= torch.float32).view(-1,1)\n",
    "x_test_tensor = torch.tensor(x_test,dtype= torch.float32)\n",
    "y_test_tensor = torch.tensor(y_test.values,dtype= torch.float32).view(-1,1)"
   ]
  },
  {
   "cell_type": "code",
   "execution_count": 35,
   "id": "b14dbafe",
   "metadata": {},
   "outputs": [],
   "source": [
    "class SimpleNNRegressionModel(nn.Module):\n",
    "    def __init__(self,input_dim):\n",
    "        super(SimpleNNRegressionModel,self).__init__()\n",
    "        self.network = nn.Sequential(\n",
    "            nn.Linear(input_dim,64),\n",
    "            nn.ReLU(),\n",
    "            nn.Linear(64,128),\n",
    "            nn.ReLU(),\n",
    "            nn.Linear(128,1)\n",
    "            \n",
    "            \n",
    "        )\n",
    "    def forward(self,x):\n",
    "        \n",
    "        return self.network(x)\n",
    "        \n",
    "\n"
   ]
  },
  {
   "cell_type": "code",
   "execution_count": 36,
   "id": "eabef095",
   "metadata": {},
   "outputs": [],
   "source": [
    "inuput_dim = x_train_tensor.shape[1]\n",
    "\n",
    "model = SimpleNNRegressionModel(inuput_dim)"
   ]
  },
  {
   "cell_type": "code",
   "execution_count": 37,
   "id": "0f9e94f9",
   "metadata": {},
   "outputs": [],
   "source": [
    "criterion = nn.MSELoss()\n",
    "optimizer = optim.Adam(model.parameters(), lr=0.01) "
   ]
  },
  {
   "cell_type": "code",
   "execution_count": 38,
   "id": "ff842c25",
   "metadata": {},
   "outputs": [
    {
     "name": "stdout",
     "output_type": "stream",
     "text": [
      "Epoch [100/99],loss:46573116.000000\n",
      "Epoch [200/199],loss:31966476.000000\n",
      "Epoch [300/299],loss:29386370.000000\n",
      "Epoch [400/399],loss:27379974.000000\n",
      "Epoch [500/499],loss:26226246.000000\n",
      "Epoch [600/599],loss:25469660.000000\n",
      "Epoch [700/699],loss:24929524.000000\n",
      "Epoch [800/799],loss:24468098.000000\n",
      "Epoch [900/899],loss:24025218.000000\n",
      "Epoch [1000/999],loss:23641606.000000\n",
      "Epoch [1100/1099],loss:23300084.000000\n",
      "Epoch [1200/1199],loss:23023530.000000\n",
      "Epoch [1300/1299],loss:22806124.000000\n",
      "Epoch [1400/1399],loss:22619886.000000\n",
      "Epoch [1500/1499],loss:22459352.000000\n",
      "Epoch [1600/1599],loss:22337712.000000\n",
      "Epoch [1700/1699],loss:22204998.000000\n",
      "Epoch [1800/1799],loss:22049350.000000\n",
      "Epoch [1900/1899],loss:21879868.000000\n",
      "Epoch [2000/1999],loss:21694486.000000\n",
      "Epoch [2100/2099],loss:21501318.000000\n",
      "Epoch [2200/2199],loss:21295362.000000\n",
      "Epoch [2300/2299],loss:21096178.000000\n",
      "Epoch [2400/2399],loss:20888944.000000\n",
      "Epoch [2500/2499],loss:20645748.000000\n",
      "Epoch [2600/2599],loss:20346822.000000\n",
      "Epoch [2700/2699],loss:20002570.000000\n",
      "Epoch [2800/2799],loss:19450228.000000\n",
      "Epoch [2900/2899],loss:18606928.000000\n",
      "Epoch [3000/2999],loss:17797246.000000\n",
      "Epoch [3100/3099],loss:17096244.000000\n",
      "Epoch [3200/3199],loss:16525103.000000\n",
      "Epoch [3300/3299],loss:16079950.000000\n",
      "Epoch [3400/3399],loss:15741378.000000\n",
      "Epoch [3500/3499],loss:15420241.000000\n",
      "Epoch [3600/3599],loss:15127752.000000\n",
      "Epoch [3700/3699],loss:14789953.000000\n",
      "Epoch [3800/3799],loss:14451188.000000\n",
      "Epoch [3900/3899],loss:14069024.000000\n",
      "Epoch [4000/3999],loss:13769724.000000\n",
      "Epoch [4100/4099],loss:13519478.000000\n",
      "Epoch [4200/4199],loss:13287324.000000\n",
      "Epoch [4300/4299],loss:13048138.000000\n",
      "Epoch [4400/4399],loss:12832553.000000\n",
      "Epoch [4500/4499],loss:12623555.000000\n",
      "Epoch [4600/4599],loss:12369440.000000\n",
      "Epoch [4700/4699],loss:12123439.000000\n",
      "Epoch [4800/4799],loss:11877081.000000\n",
      "Epoch [4900/4899],loss:11664963.000000\n",
      "Epoch [5000/4999],loss:11474159.000000\n",
      "Epoch [5100/5099],loss:11292363.000000\n",
      "Epoch [5200/5199],loss:11077754.000000\n",
      "Epoch [5300/5299],loss:10900183.000000\n",
      "Epoch [5400/5399],loss:10731338.000000\n",
      "Epoch [5500/5499],loss:10566206.000000\n",
      "Epoch [5600/5599],loss:10431120.000000\n",
      "Epoch [5700/5699],loss:10262444.000000\n",
      "Epoch [5800/5799],loss:10130931.000000\n",
      "Epoch [5900/5899],loss:10003823.000000\n",
      "Epoch [6000/5999],loss:9893198.000000\n",
      "Epoch [6100/6099],loss:9760264.000000\n",
      "Epoch [6200/6199],loss:9593963.000000\n",
      "Epoch [6300/6299],loss:9459915.000000\n",
      "Epoch [6400/6399],loss:9336329.000000\n",
      "Epoch [6500/6499],loss:9245549.000000\n",
      "Epoch [6600/6599],loss:9147257.000000\n",
      "Epoch [6700/6699],loss:9074970.000000\n",
      "Epoch [6800/6799],loss:8998676.000000\n",
      "Epoch [6900/6899],loss:8935194.000000\n",
      "Epoch [7000/6999],loss:8870282.000000\n",
      "Epoch [7100/7099],loss:8800949.000000\n",
      "Epoch [7200/7199],loss:8733015.000000\n",
      "Epoch [7300/7299],loss:8672043.000000\n",
      "Epoch [7400/7399],loss:8611716.000000\n",
      "Epoch [7500/7499],loss:8549810.000000\n",
      "Epoch [7600/7599],loss:8488515.000000\n",
      "Epoch [7700/7699],loss:8436349.000000\n",
      "Epoch [7800/7799],loss:8383074.500000\n",
      "Epoch [7900/7899],loss:8334493.000000\n",
      "Epoch [8000/7999],loss:8282848.000000\n",
      "Epoch [8100/8099],loss:8240041.000000\n",
      "Epoch [8200/8199],loss:8188963.500000\n",
      "Epoch [8300/8299],loss:8133314.500000\n",
      "Epoch [8400/8399],loss:8084425.500000\n",
      "Epoch [8500/8499],loss:8019282.000000\n",
      "Epoch [8600/8599],loss:7956306.500000\n",
      "Epoch [8700/8699],loss:7895880.000000\n",
      "Epoch [8800/8799],loss:7835549.000000\n",
      "Epoch [8900/8899],loss:7762759.000000\n",
      "Epoch [9000/8999],loss:7711841.500000\n",
      "Epoch [9100/9099],loss:7641649.000000\n",
      "Epoch [9200/9199],loss:7582122.500000\n",
      "Epoch [9300/9299],loss:7523270.000000\n",
      "Epoch [9400/9399],loss:7459189.500000\n",
      "Epoch [9500/9499],loss:7398805.000000\n",
      "Epoch [9600/9599],loss:7336754.000000\n",
      "Epoch [9700/9699],loss:7278261.000000\n",
      "Epoch [9800/9799],loss:7224790.500000\n",
      "Epoch [9900/9899],loss:7152772.500000\n",
      "Epoch [10000/9999],loss:7081446.000000\n"
     ]
    }
   ],
   "source": [
    "\n",
    "epochs = 10000\n",
    "for epoch in range(epochs):\n",
    "    model.train()\n",
    "    optimizer.zero_grad()\n",
    "    pred = model(x_train_tensor)\n",
    "    loss = criterion(pred,y_train_tensor)\n",
    "    loss.backward()\n",
    "    optimizer.step() \n",
    "    \n",
    "    if (epoch+1)%100 ==0:\n",
    "        print(f\"Epoch [{epoch+1}/{epoch}],loss:{loss.item():4f}\")"
   ]
  },
  {
   "cell_type": "code",
   "execution_count": 33,
   "id": "a594a86b",
   "metadata": {},
   "outputs": [],
   "source": [
    "model.eval()\n",
    "y_pred = model(x_test_tensor).detach().numpy()"
   ]
  },
  {
   "cell_type": "code",
   "execution_count": 39,
   "id": "4a93e741",
   "metadata": {},
   "outputs": [
    {
     "name": "stdout",
     "output_type": "stream",
     "text": [
      "Mse : 6789626.0\n",
      "rmse : 2.1957975319931653 \n",
      "Mae : 1684.22802734375\n",
      "r2 Score : 0.9529588077763622\n"
     ]
    }
   ],
   "source": [
    "from sklearn.metrics import mean_squared_error, mean_absolute_error,r2_score\n",
    "\n",
    "y_test_numpy = y_test_tensor.numpy()\n",
    "\n",
    "mse = mean_squared_error(y_test_numpy,y_pred)\n",
    "\n",
    "rmse = mse**0.05\n",
    "\n",
    "mae = mean_absolute_error(y_test_numpy,y_pred)\n",
    "\n",
    "r2score = r2_score(y_test_numpy,y_pred)\n",
    "\n",
    "\n",
    "print(f\"Mse : {mse}\")\n",
    "\n",
    "\n",
    "print(f\"rmse : {rmse} \")\n",
    "\n",
    "print(f\"Mae : {mae}\")\n",
    "\n",
    "print(f\"r2 Score : {r2score}\")"
   ]
  },
  {
   "cell_type": "code",
   "execution_count": 40,
   "id": "d24304ff",
   "metadata": {},
   "outputs": [],
   "source": [
    "def prdeict_charges(age,sex,bmi,children,smoker,region):\n",
    "    input_data= pd.DataFrame([[age,sex,bmi,children,smoker,region]],\n",
    "                             columns = ['age','sex','bmi','children','smoker','region'])\n",
    "    \n",
    "    \n",
    "    for  col in ['sex','smoker','region']:\n",
    "        input_data[col]= label_encder[col].transform(input_data[col])\n",
    "        \n",
    "    input_data = scaler.transform(input_data)\n",
    "    input_tensor = torch.tensor(input_data,dtype = torch.float32)\n",
    "    pred = model(input_tensor).item()\n",
    "    return pred\n",
    "\n"
   ]
  },
  {
   "cell_type": "code",
   "execution_count": 41,
   "id": "8e4f5a53",
   "metadata": {},
   "outputs": [],
   "source": [
    "pg = prdeict_charges(19,'female',27.9,0,'yes','southwest')"
   ]
  },
  {
   "cell_type": "code",
   "execution_count": 43,
   "id": "c2e0ff75",
   "metadata": {},
   "outputs": [
    {
     "name": "stdout",
     "output_type": "stream",
     "text": [
      "predicted insurance charges: 16207.21\n"
     ]
    }
   ],
   "source": [
    "print(f\"predicted insurance charges: {pg:.2f}\")"
   ]
  },
  {
   "cell_type": "code",
   "execution_count": null,
   "id": "16107aa0",
   "metadata": {},
   "outputs": [],
   "source": [
    "##understanding components of the data model"
   ]
  },
  {
   "cell_type": "code",
   "execution_count": null,
   "id": "c16987cb",
   "metadata": {},
   "outputs": [],
   "source": []
  },
  {
   "cell_type": "code",
   "execution_count": null,
   "id": "fe76a84c",
   "metadata": {},
   "outputs": [],
   "source": []
  },
  {
   "cell_type": "code",
   "execution_count": null,
   "id": "fe487dfa",
   "metadata": {},
   "outputs": [],
   "source": []
  },
  {
   "cell_type": "code",
   "execution_count": null,
   "id": "590fa687",
   "metadata": {},
   "outputs": [],
   "source": []
  },
  {
   "cell_type": "code",
   "execution_count": null,
   "id": "8b91251f",
   "metadata": {},
   "outputs": [],
   "source": []
  },
  {
   "cell_type": "code",
   "execution_count": null,
   "id": "1e5bcebb",
   "metadata": {},
   "outputs": [],
   "source": [
    " "
   ]
  }
 ],
 "metadata": {
  "kernelspec": {
   "display_name": "base",
   "language": "python",
   "name": "python3"
  },
  "language_info": {
   "codemirror_mode": {
    "name": "ipython",
    "version": 3
   },
   "file_extension": ".py",
   "mimetype": "text/x-python",
   "name": "python",
   "nbconvert_exporter": "python",
   "pygments_lexer": "ipython3",
   "version": "3.8.20"
  }
 },
 "nbformat": 4,
 "nbformat_minor": 5
}
