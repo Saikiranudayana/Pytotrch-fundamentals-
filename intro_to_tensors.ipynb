{
 "cells": [
  {
   "cell_type": "code",
   "execution_count": 1,
   "id": "eba1a9ef",
   "metadata": {},
   "outputs": [],
   "source": [
    "import torch"
   ]
  },
  {
   "cell_type": "markdown",
   "id": "53cf49f8",
   "metadata": {},
   "source": [
    "Creating a Tensors\n"
   ]
  },
  {
   "cell_type": "code",
   "execution_count": null,
   "id": "663408a0",
   "metadata": {},
   "outputs": [
    {
     "name": "stdout",
     "output_type": "stream",
     "text": [
      "Scaler tensor(42)\n",
      "scaler dimeinsion 0\n",
      "scaler size torch.Size([])\n",
      "scaler shape torch.Size([])\n"
     ]
    }
   ],
   "source": [
    "#1.scalar tensor    # zero dimension tensor\n",
    "\n",
    "a= 42\n",
    "\n",
    "scaler = torch.tensor(a)\n",
    "\n",
    "print(\"Scaler\",scaler)\n",
    "\n",
    "print(\"scaler dimeinsion\",scaler.ndim)\n",
    "\n",
    "print(\"scaler size\",scaler.size())\n",
    "\n",
    "\n",
    "print(\"scaler shape\",scaler.shape)"
   ]
  },
  {
   "cell_type": "code",
   "execution_count": 8,
   "id": "6958a53a",
   "metadata": {},
   "outputs": [
    {
     "name": "stdout",
     "output_type": "stream",
     "text": [
      "vector tensor([1, 2, 3])\n",
      "vector dimeinsion 1\n",
      "vector size torch.Size([3])\n",
      "vector shape torch.Size([3])\n"
     ]
    }
   ],
   "source": [
    "## 1d tensor\n",
    "a= [1,2,3]\n",
    "\n",
    "vector = torch.tensor(a)\n",
    "\n",
    "print(\"vector\",vector)\n",
    "\n",
    "print(\"vector dimeinsion\",vector.ndim)\n",
    "\n",
    "print(\"vector size\",vector.size())\n",
    "\n",
    "\n",
    "print(\"vector shape\",vector.shape)"
   ]
  },
  {
   "cell_type": "code",
   "execution_count": 9,
   "id": "6cbc54a0",
   "metadata": {},
   "outputs": [
    {
     "name": "stdout",
     "output_type": "stream",
     "text": [
      "matrix tensor([[1, 2, 3],\n",
      "        [4, 5, 6]])\n",
      "matrix dimeinsion 2\n",
      "matrix size torch.Size([2, 3])\n",
      "matrix shape torch.Size([2, 3])\n"
     ]
    }
   ],
   "source": [
    "## 2d tensor\n",
    "a= [[1,2,3],[4,5,6]]\n",
    "\n",
    "matrix = torch.tensor(a)\n",
    "\n",
    "print(\"matrix\",matrix)\n",
    "\n",
    "print(\"matrix dimeinsion\",matrix.ndim)\n",
    "\n",
    "print(\"matrix size\",matrix.size())\n",
    "\n",
    "\n",
    "print(\"matrix shape\",matrix.shape)"
   ]
  },
  {
   "cell_type": "code",
   "execution_count": 10,
   "id": "b7117bdd",
   "metadata": {},
   "outputs": [
    {
     "name": "stdout",
     "output_type": "stream",
     "text": [
      "matrix tensor([[[ 1,  2,  3],\n",
      "         [ 4,  5,  6],\n",
      "         [ 7,  8,  9]],\n",
      "\n",
      "        [[10, 11, 12],\n",
      "         [13, 14, 15],\n",
      "         [16, 17, 18]],\n",
      "\n",
      "        [[19, 20, 21],\n",
      "         [22, 23, 24],\n",
      "         [25, 26, 27]]])\n",
      "matrix dimeinsion 3\n",
      "matrix size torch.Size([3, 3, 3])\n",
      "matrix shape torch.Size([3, 3, 3])\n"
     ]
    }
   ],
   "source": [
    "## 3d tensor\n",
    "a= ([[1,2,3],[4,5,6],[7,8,9]], [[10,11,12],[13,14,15],[16,17,18]],\n",
    "        [[19,20,21],[22,23,24],[25,26,27]])\n",
    "\n",
    "matrix = torch.tensor(a)\n",
    "\n",
    "print(\"matrix\",matrix)\n",
    "\n",
    "print(\"matrix dimeinsion\",matrix.ndim)\n",
    "\n",
    "print(\"matrix size\",matrix.size())\n",
    "\n",
    "\n",
    "print(\"matrix shape\",matrix.shape)"
   ]
  },
  {
   "cell_type": "code",
   "execution_count": 12,
   "id": "e6227de4",
   "metadata": {},
   "outputs": [
    {
     "name": "stdout",
     "output_type": "stream",
     "text": [
      "GPU Tensor tensor([1, 2, 3], device='cuda:0')\n"
     ]
    }
   ],
   "source": [
    "##gpu accelration\n",
    "if torch.cuda.is_available():\n",
    "    gpu_tensor = vector.to(\"cuda\")\n",
    "    print(\"GPU Tensor\", gpu_tensor)\n",
    "else:\n",
    "    print(\"CUDA is not available. Running on CPU.\")"
   ]
  },
  {
   "cell_type": "code",
   "execution_count": null,
   "id": "61b969e9",
   "metadata": {},
   "outputs": [
    {
     "name": "stdout",
     "output_type": "stream",
     "text": [
      "torch.int64\n",
      "cuda:0\n",
      "False\n"
     ]
    }
   ],
   "source": [
    "#tesnorproperties\n",
    "\n",
    "print(matrix.dtype)  # data type of the tensor)\n",
    "\n",
    "print(gpu_tensor.device) \n",
    "\n",
    "# device on which the tensor is stored (CPU or GPU)print( )\n",
    "\n",
    "print(matrix.is_cuda)\n"
   ]
  },
  {
   "cell_type": "code",
   "execution_count": null,
   "id": "e0d08fa0",
   "metadata": {},
   "outputs": [],
   "source": []
  },
  {
   "cell_type": "code",
   "execution_count": null,
   "id": "54d06b33",
   "metadata": {},
   "outputs": [],
   "source": []
  },
  {
   "cell_type": "code",
   "execution_count": null,
   "id": "4051fa6e",
   "metadata": {},
   "outputs": [],
   "source": []
  }
 ],
 "metadata": {
  "kernelspec": {
   "display_name": "base",
   "language": "python",
   "name": "python3"
  },
  "language_info": {
   "codemirror_mode": {
    "name": "ipython",
    "version": 3
   },
   "file_extension": ".py",
   "mimetype": "text/x-python",
   "name": "python",
   "nbconvert_exporter": "python",
   "pygments_lexer": "ipython3",
   "version": "3.8.20"
  }
 },
 "nbformat": 4,
 "nbformat_minor": 5
}
