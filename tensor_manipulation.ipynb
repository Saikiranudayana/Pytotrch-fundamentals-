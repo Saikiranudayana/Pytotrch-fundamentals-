{
 "cells": [
  {
   "cell_type": "code",
   "execution_count": 1,
   "id": "a940469f",
   "metadata": {},
   "outputs": [],
   "source": [
    "import torch\n"
   ]
  },
  {
   "cell_type": "code",
   "execution_count": 5,
   "id": "07a9f02e",
   "metadata": {},
   "outputs": [
    {
     "name": "stdout",
     "output_type": "stream",
     "text": [
      "tensor([ 0,  1,  2,  3,  4,  5,  6,  7,  8,  9, 10, 11])\n",
      "12\n"
     ]
    }
   ],
   "source": [
    "original_tensor = torch.arange(12)\n",
    "\n",
    "print(original_tensor)\n",
    "print(original_tensor.nelement())"
   ]
  },
  {
   "cell_type": "code",
   "execution_count": 6,
   "id": "960e0dd0",
   "metadata": {},
   "outputs": [
    {
     "name": "stdout",
     "output_type": "stream",
     "text": [
      "tensor([[ 0,  1,  2,  3],\n",
      "        [ 4,  5,  6,  7],\n",
      "        [ 8,  9, 10, 11]])\n",
      "12\n",
      "2\n"
     ]
    }
   ],
   "source": [
    "reshaped_tensor = original_tensor.reshape(3, 4)\n",
    "print(reshaped_tensor)  \n",
    "print(reshaped_tensor.nelement())\n",
    "print(reshaped_tensor.ndim)"
   ]
  },
  {
   "cell_type": "code",
   "execution_count": 7,
   "id": "d0dc96ed",
   "metadata": {},
   "outputs": [
    {
     "name": "stdout",
     "output_type": "stream",
     "text": [
      "tensor([[ 0,  1,  2,  3,  4,  5],\n",
      "        [ 6,  7,  8,  9, 10, 11]])\n",
      "12\n",
      "2\n"
     ]
    }
   ],
   "source": [
    "reshaped_tensor = original_tensor.reshape(2,6)\n",
    "print(reshaped_tensor)  \n",
    "print(reshaped_tensor.nelement())\n",
    "print(reshaped_tensor.ndim)"
   ]
  },
  {
   "cell_type": "code",
   "execution_count": 10,
   "id": "f36a553c",
   "metadata": {},
   "outputs": [
    {
     "name": "stdout",
     "output_type": "stream",
     "text": [
      "True\n",
      "tensor([ 0,  1,  2,  3,  4,  5,  6,  7,  8,  9, 10, 11])\n"
     ]
    }
   ],
   "source": [
    "##view \n",
    "print(original_tensor .is_contiguous())\n",
    "flattend_tensor = original_tensor .view(-1)\n",
    "print(flattend_tensor)"
   ]
  },
  {
   "cell_type": "markdown",
   "id": "aa216349",
   "metadata": {},
   "source": [
    "SLicing"
   ]
  },
  {
   "cell_type": "code",
   "execution_count": 11,
   "id": "1ca48524",
   "metadata": {},
   "outputs": [
    {
     "name": "stdout",
     "output_type": "stream",
     "text": [
      "tensor([[1, 2, 3],\n",
      "        [4, 5, 6],\n",
      "        [7, 8, 9]])\n",
      "2\n"
     ]
    }
   ],
   "source": [
    "tensor_a = torch.tensor([[1,2,3],[4,5,6],[7,8,9]])\n",
    "print(tensor_a)\n",
    "print(tensor_a.ndim)  # Accessing element at row 0, column 1"
   ]
  },
  {
   "cell_type": "code",
   "execution_count": 12,
   "id": "565696d3",
   "metadata": {},
   "outputs": [
    {
     "name": "stdout",
     "output_type": "stream",
     "text": [
      "tensor([1, 2, 3])\n"
     ]
    }
   ],
   "source": [
    "print(tensor_a[0])"
   ]
  },
  {
   "cell_type": "code",
   "execution_count": 13,
   "id": "136b81ea",
   "metadata": {},
   "outputs": [
    {
     "data": {
      "text/plain": [
       "tensor([1, 4, 7])"
      ]
     },
     "execution_count": 13,
     "metadata": {},
     "output_type": "execute_result"
    }
   ],
   "source": [
    "tensor_a[:,0]"
   ]
  },
  {
   "cell_type": "code",
   "execution_count": 15,
   "id": "7a827d49",
   "metadata": {},
   "outputs": [
    {
     "data": {
      "text/plain": [
       "torch.Size([3, 3])"
      ]
     },
     "execution_count": 15,
     "metadata": {},
     "output_type": "execute_result"
    }
   ],
   "source": [
    "tensor_a.shape"
   ]
  },
  {
   "cell_type": "markdown",
   "id": "7337b92d",
   "metadata": {},
   "source": [
    "Joining"
   ]
  },
  {
   "cell_type": "code",
   "execution_count": 17,
   "id": "0e80c60a",
   "metadata": {},
   "outputs": [
    {
     "name": "stdout",
     "output_type": "stream",
     "text": [
      "tensor([[ 1,  2,  3],\n",
      "        [ 4,  5,  6],\n",
      "        [ 7,  8,  9],\n",
      "        [10, 11, 12]])\n",
      "tensor([[ 1,  2,  3,  7,  8,  9],\n",
      "        [ 4,  5,  6, 10, 11, 12]])\n"
     ]
    }
   ],
   "source": [
    "#torch.cat() --> merge tensors along a exsiting dimension\n",
    "\n",
    "ten_a = torch.tensor([[1,2,3],[4,5,6]])\n",
    "ten_b = torch.tensor([[7,8,9],[10,11,12]])\n",
    "joined_tensor = torch.cat((ten_a, ten_b), dim=0)  \n",
    "joined_tensor_col = torch.cat((ten_a, ten_b), dim=1) # Concatenate along the first dimension\n",
    "print(joined_tensor)\n",
    "print(joined_tensor_col)"
   ]
  },
  {
   "cell_type": "code",
   "execution_count": 18,
   "id": "cdbc7626",
   "metadata": {},
   "outputs": [
    {
     "name": "stdout",
     "output_type": "stream",
     "text": [
      "(tensor([0, 1, 2, 3]), tensor([4, 5, 6, 7]), tensor([ 8,  9, 10, 11]))\n"
     ]
    }
   ],
   "source": [
    "orginal_tensor = torch.arange(12)\n",
    "\n",
    "chunks = torch.chunk(orginal_tensor, 3,dim=0) \n",
    "\n",
    "print(chunks)# Split into 3 chunks"
   ]
  },
  {
   "cell_type": "code",
   "execution_count": 21,
   "id": "7317ebab",
   "metadata": {},
   "outputs": [
    {
     "name": "stdout",
     "output_type": "stream",
     "text": [
      "(tensor([0, 1, 2, 3, 4]), tensor([5, 6, 7, 8, 9]), tensor([10, 11]))\n"
     ]
    }
   ],
   "source": [
    "orginal_tensor = torch.arange(12)\n",
    "\n",
    "splits = torch.split(orginal_tensor, 5,dim=0) \n",
    "\n",
    "print(splits)# Split into 3 chunks"
   ]
  },
  {
   "cell_type": "code",
   "execution_count": null,
   "id": "d66d096c",
   "metadata": {},
   "outputs": [],
   "source": [
    "tensor_orginal = torch.arange(12).reshape(2,3,4)\n",
    "\n"
   ]
  }
 ],
 "metadata": {
  "kernelspec": {
   "display_name": "base",
   "language": "python",
   "name": "python3"
  },
  "language_info": {
   "codemirror_mode": {
    "name": "ipython",
    "version": 3
   },
   "file_extension": ".py",
   "mimetype": "text/x-python",
   "name": "python",
   "nbconvert_exporter": "python",
   "pygments_lexer": "ipython3",
   "version": "3.8.20"
  }
 },
 "nbformat": 4,
 "nbformat_minor": 5
}
