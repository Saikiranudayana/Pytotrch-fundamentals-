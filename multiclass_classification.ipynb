{
 "cells": [
  {
   "cell_type": "code",
   "execution_count": 1,
   "id": "177bf6c0",
   "metadata": {},
   "outputs": [],
   "source": [
    "import torch\n",
    "import torch.nn as nn\n",
    "import torch.optim as optim\n",
    "import pandas as pd\n",
    "import numpy as np\n",
    "from sklearn.datasets import load_iris \n",
    "from sklearn.model_selection import train_test_split\n",
    "from sklearn.preprocessing import StandardScaler"
   ]
  },
  {
   "cell_type": "code",
   "execution_count": 3,
   "id": "b6496f3b",
   "metadata": {},
   "outputs": [],
   "source": [
    "iris = load_iris()\n",
    "df = pd.DataFrame(iris.data, columns=iris.feature_names)\n",
    "df['target'] = iris.target"
   ]
  },
  {
   "cell_type": "code",
   "execution_count": 4,
   "id": "2973d9e2",
   "metadata": {},
   "outputs": [
    {
     "data": {
      "text/html": [
       "<div>\n",
       "<style scoped>\n",
       "    .dataframe tbody tr th:only-of-type {\n",
       "        vertical-align: middle;\n",
       "    }\n",
       "\n",
       "    .dataframe tbody tr th {\n",
       "        vertical-align: top;\n",
       "    }\n",
       "\n",
       "    .dataframe thead th {\n",
       "        text-align: right;\n",
       "    }\n",
       "</style>\n",
       "<table border=\"1\" class=\"dataframe\">\n",
       "  <thead>\n",
       "    <tr style=\"text-align: right;\">\n",
       "      <th></th>\n",
       "      <th>sepal length (cm)</th>\n",
       "      <th>sepal width (cm)</th>\n",
       "      <th>petal length (cm)</th>\n",
       "      <th>petal width (cm)</th>\n",
       "      <th>target</th>\n",
       "    </tr>\n",
       "  </thead>\n",
       "  <tbody>\n",
       "    <tr>\n",
       "      <th>0</th>\n",
       "      <td>5.1</td>\n",
       "      <td>3.5</td>\n",
       "      <td>1.4</td>\n",
       "      <td>0.2</td>\n",
       "      <td>0</td>\n",
       "    </tr>\n",
       "    <tr>\n",
       "      <th>1</th>\n",
       "      <td>4.9</td>\n",
       "      <td>3.0</td>\n",
       "      <td>1.4</td>\n",
       "      <td>0.2</td>\n",
       "      <td>0</td>\n",
       "    </tr>\n",
       "    <tr>\n",
       "      <th>2</th>\n",
       "      <td>4.7</td>\n",
       "      <td>3.2</td>\n",
       "      <td>1.3</td>\n",
       "      <td>0.2</td>\n",
       "      <td>0</td>\n",
       "    </tr>\n",
       "    <tr>\n",
       "      <th>3</th>\n",
       "      <td>4.6</td>\n",
       "      <td>3.1</td>\n",
       "      <td>1.5</td>\n",
       "      <td>0.2</td>\n",
       "      <td>0</td>\n",
       "    </tr>\n",
       "    <tr>\n",
       "      <th>4</th>\n",
       "      <td>5.0</td>\n",
       "      <td>3.6</td>\n",
       "      <td>1.4</td>\n",
       "      <td>0.2</td>\n",
       "      <td>0</td>\n",
       "    </tr>\n",
       "  </tbody>\n",
       "</table>\n",
       "</div>"
      ],
      "text/plain": [
       "   sepal length (cm)  sepal width (cm)  petal length (cm)  petal width (cm)  \\\n",
       "0                5.1               3.5                1.4               0.2   \n",
       "1                4.9               3.0                1.4               0.2   \n",
       "2                4.7               3.2                1.3               0.2   \n",
       "3                4.6               3.1                1.5               0.2   \n",
       "4                5.0               3.6                1.4               0.2   \n",
       "\n",
       "   target  \n",
       "0       0  \n",
       "1       0  \n",
       "2       0  \n",
       "3       0  \n",
       "4       0  "
      ]
     },
     "execution_count": 4,
     "metadata": {},
     "output_type": "execute_result"
    }
   ],
   "source": [
    "df.head()"
   ]
  },
  {
   "cell_type": "code",
   "execution_count": 5,
   "id": "7823c103",
   "metadata": {},
   "outputs": [],
   "source": [
    "train_df,test_df = train_test_split(df,test_size= 0.20,random_state = 42,stratify=df['target'])\n",
    "\n"
   ]
  },
  {
   "cell_type": "code",
   "execution_count": 7,
   "id": "475c2312",
   "metadata": {},
   "outputs": [],
   "source": [
    "x_train,y_train = train_df.drop(columns=['target']),train_df['target']\n",
    "x_test,y_test= test_df.drop(columns=['target']),test_df['target']\n",
    "\n"
   ]
  },
  {
   "cell_type": "code",
   "execution_count": 8,
   "id": "c61b8460",
   "metadata": {},
   "outputs": [],
   "source": [
    "scaler= StandardScaler()\n",
    "x_train = scaler.fit_transform(x_train)\n",
    "x_test= scaler.transform(x_test)\n"
   ]
  },
  {
   "cell_type": "code",
   "execution_count": 10,
   "id": "606bd026",
   "metadata": {},
   "outputs": [],
   "source": [
    "x_train_tensor= torch.tensor(x_train,dtype= torch.float32)\n",
    "x_test_tensor= torch.tensor(x_test,dtype= torch.float32)\n",
    "y_train_tensor= torch.tensor(y_train.values,dtype= torch.long)\n",
    "y_test_tensor= torch.tensor(y_test.values,dtype= torch.long)"
   ]
  },
  {
   "cell_type": "code",
   "execution_count": 20,
   "id": "34242ad1",
   "metadata": {},
   "outputs": [],
   "source": [
    "class IrisClassifier(nn.Module):\n",
    "    def __init__(self,input_dim,hidden_dim,output_dim):\n",
    "        super(IrisClassifier,self).__init__()\n",
    "        self.network = nn.Sequential(\n",
    "            nn.Linear(input_dim,hidden_dim),\n",
    "            nn.ReLU(),\n",
    "            nn.Linear(hidden_dim,hidden_dim),\n",
    "            nn.ReLU(),\n",
    "            nn.Linear(hidden_dim,output_dim)\n",
    "            \n",
    "        )\n",
    "        \n",
    "    def forward(self,x):\n",
    "        return self.network(x)\n",
    "    \n",
    "    \n",
    "    "
   ]
  },
  {
   "cell_type": "code",
   "execution_count": 21,
   "id": "005355ef",
   "metadata": {},
   "outputs": [],
   "source": [
    "inuput = x_train.shape[1]\n",
    "hidden = 16\n",
    "out = 3\n"
   ]
  },
  {
   "cell_type": "code",
   "execution_count": 22,
   "id": "cb928541",
   "metadata": {},
   "outputs": [],
   "source": [
    "model = IrisClassifier(inuput,hidden,out)"
   ]
  },
  {
   "cell_type": "code",
   "execution_count": 23,
   "id": "7fba7d98",
   "metadata": {},
   "outputs": [],
   "source": [
    "cre = nn.CrossEntropyLoss()\n",
    "optimizer= optim.Adam(model.parameters(),lr= 0.01)\n"
   ]
  },
  {
   "cell_type": "code",
   "execution_count": 26,
   "id": "42887d49",
   "metadata": {},
   "outputs": [
    {
     "name": "stdout",
     "output_type": "stream",
     "text": [
      "Epoch [501/500],loss :0.0304\n",
      "Epoch [501/500],loss :0.0222\n",
      "Epoch [501/500],loss :0.0116\n",
      "Epoch [501/500],loss :0.0048\n",
      "Epoch [501/500],loss :0.0023\n",
      "Epoch [501/500],loss :0.0013\n",
      "Epoch [501/500],loss :0.0009\n",
      "Epoch [501/500],loss :0.0006\n",
      "Epoch [501/500],loss :0.0005\n",
      "Epoch [501/500],loss :0.0004\n"
     ]
    }
   ],
   "source": [
    "epochs = 500\n",
    "for e in range(epochs):\n",
    "    model.train()\n",
    "    optimizer.zero_grad()\n",
    "    pred= model(x_train_tensor)\n",
    "    loss= cre(pred,y_train_tensor)\n",
    "    loss.backward()\n",
    "    optimizer.step()\n",
    "    \n",
    "    if (e+1)%50 ==0:\n",
    "        print(f\"Epoch [{epochs+1}/{epochs}],loss :{loss.item():.4f}\")"
   ]
  },
  {
   "cell_type": "code",
   "execution_count": 28,
   "id": "a36d0a42",
   "metadata": {},
   "outputs": [
    {
     "name": "stdout",
     "output_type": "stream",
     "text": [
      "Accuracy :0.9666666666666667\n"
     ]
    }
   ],
   "source": [
    "model.eval()\n",
    "with torch.no_grad():\n",
    "    y_pred =model(x_test_tensor)\n",
    "    y_pred_lables = torch.argmax(y_pred,dim=1)\n",
    "    \n",
    "    accuracy = (y_pred_lables==y_test_tensor).sum().item()/y_test_tensor.size(0)\n",
    "    \n",
    "    print(f\"Accuracy :{accuracy}\")"
   ]
  },
  {
   "cell_type": "code",
   "execution_count": 29,
   "id": "99861ef8",
   "metadata": {},
   "outputs": [],
   "source": [
    "def pred_irsi(sep_le,sep_wid,pet_len,pet_wid):\n",
    "    input_data= np.array([[sep_le,sep_wid,pet_len,pet_wid]])\n",
    "    \n",
    "    input_data = scaler.transform(input_data)\n",
    "    input_tensor = torch.tensor(input_data,dtype= torch.float32)\n",
    "    \n",
    "    model.eval()\n",
    "    with torch.no_grad():\n",
    "        pred =model(x_test_tensor)\n",
    "        pred_lables = torch.argmax(pred,dim=1)\n",
    "    return iris.target_names[pred_lables]\n",
    "    "
   ]
  },
  {
   "cell_type": "code",
   "execution_count": 30,
   "id": "c82a4d78",
   "metadata": {},
   "outputs": [
    {
     "name": "stderr",
     "output_type": "stream",
     "text": [
      "c:\\Users\\saiki\\anaconda3\\lib\\site-packages\\sklearn\\base.py:465: UserWarning: X does not have valid feature names, but StandardScaler was fitted with feature names\n",
      "  warnings.warn(\n"
     ]
    }
   ],
   "source": [
    "g= pred_irsi(5.1,3.5,1.4,0.2)"
   ]
  },
  {
   "cell_type": "code",
   "execution_count": 31,
   "id": "9430a7e7",
   "metadata": {},
   "outputs": [
    {
     "name": "stdout",
     "output_type": "stream",
     "text": [
      "['setosa' 'virginica' 'versicolor' 'versicolor' 'setosa' 'versicolor'\n",
      " 'setosa' 'setosa' 'virginica' 'versicolor' 'virginica' 'virginica'\n",
      " 'virginica' 'versicolor' 'setosa' 'setosa' 'setosa' 'versicolor'\n",
      " 'versicolor' 'virginica' 'setosa' 'virginica' 'versicolor' 'virginica'\n",
      " 'virginica' 'virginica' 'versicolor' 'setosa' 'virginica' 'setosa']\n"
     ]
    }
   ],
   "source": [
    "print(g)"
   ]
  },
  {
   "cell_type": "code",
   "execution_count": null,
   "id": "398cc92a",
   "metadata": {},
   "outputs": [],
   "source": []
  }
 ],
 "metadata": {
  "kernelspec": {
   "display_name": "base",
   "language": "python",
   "name": "python3"
  },
  "language_info": {
   "codemirror_mode": {
    "name": "ipython",
    "version": 3
   },
   "file_extension": ".py",
   "mimetype": "text/x-python",
   "name": "python",
   "nbconvert_exporter": "python",
   "pygments_lexer": "ipython3",
   "version": "3.8.20"
  }
 },
 "nbformat": 4,
 "nbformat_minor": 5
}
